{
 "cells": [
  {
   "cell_type": "markdown",
   "id": "5aae4ce6-0678-4a77-9887-e53fc46e00f7",
   "metadata": {},
   "source": [
    "#Q: In 2010 Census of the city, The weight(kg) of the individuals in a small city were found to be the following.\n",
    " \n",
    "      | <50  | 50-70 | >75 |\n",
    "      | 20 % | 30%   | 50% |\n",
    "     \n",
    "#In 2020, ages of n = 500 individuals were sampled. Below are the results.\n",
    "\n",
    "     | <50  | 50-70 | >75 |\n",
    "     | 140  | 160   | 200 |\n",
    "\n",
    "#Using significance value = 0.05 , would you conclude the population difference of weight changed in the last 10 years?"
   ]
  },
  {
   "cell_type": "code",
   "execution_count": 13,
   "id": "58831702-0735-499c-a3b6-2ef1d2366fa7",
   "metadata": {},
   "outputs": [],
   "source": [
    "import scipy.stats as stat\n",
    "import numpy as np"
   ]
  },
  {
   "cell_type": "code",
   "execution_count": 4,
   "id": "8e69a1b7-de87-4db1-bb6a-0fde23af433a",
   "metadata": {},
   "outputs": [],
   "source": [
    "# <50) (20/100)*500\n",
    "exp_data = [100, 150, 250]\n",
    "obs_data = [140, 160, 200]\n",
    "\n",
    "# Chi-square Goodness of fit test\n",
    "\n",
    "chi_square_statist , p_value = stat.chisquare(obs_data , exp_data)"
   ]
  },
  {
   "cell_type": "code",
   "execution_count": 5,
   "id": "77771ac5-7d85-4f5e-9708-cb902c7f035a",
   "metadata": {},
   "outputs": [
    {
     "data": {
      "text/plain": [
       "(26.666666666666668, 1.61959679231261e-06)"
      ]
     },
     "execution_count": 5,
     "metadata": {},
     "output_type": "execute_result"
    }
   ],
   "source": [
    "chi_square_statist,p_value\n"
   ]
  },
  {
   "cell_type": "code",
   "execution_count": 6,
   "id": "ed20ed62-99cf-4cb9-9920-3d192977ee53",
   "metadata": {},
   "outputs": [],
   "source": [
    "# Finding the critical value\n",
    "sig_value = 0.05 \n",
    "dof = len(exp_data)-1\n",
    "critical_data = stat.chi2.ppf(1-sig_value , dof)"
   ]
  },
  {
   "cell_type": "code",
   "execution_count": 10,
   "id": "179bac36-0baf-4917-8358-e3753995015c",
   "metadata": {},
   "outputs": [
    {
     "data": {
      "text/plain": [
       "5.991464547107979"
      ]
     },
     "execution_count": 10,
     "metadata": {},
     "output_type": "execute_result"
    }
   ],
   "source": [
    "critical_data\n",
    "# print(dof)"
   ]
  },
  {
   "cell_type": "code",
   "execution_count": 8,
   "id": "4ea07985-151c-4c72-b97a-e5f3c4aeded5",
   "metadata": {},
   "outputs": [
    {
     "name": "stdout",
     "output_type": "stream",
     "text": [
      "Reject Null hypothesis\n"
     ]
    }
   ],
   "source": [
    "if chi_square_statist > critical_data:\n",
    "    print(\"Reject Null hypothesis\")\n",
    "else:\n",
    "    print(\"Accept Null hypothesis\")"
   ]
  },
  {
   "cell_type": "markdown",
   "id": "b40b54e6-1329-42a0-9ae7-4ca88238a140",
   "metadata": {},
   "source": [
    "# Conclusion "
   ]
  },
  {
   "cell_type": "code",
   "execution_count": null,
   "id": "bacc9559-745f-43f2-90cb-8b3cfb637362",
   "metadata": {},
   "outputs": [],
   "source": [
    "# The weight of 2020 population are different than those expected on the 2010 population."
   ]
  }
 ],
 "metadata": {
  "kernelspec": {
   "display_name": "Python 3 (ipykernel)",
   "language": "python",
   "name": "python3"
  },
  "language_info": {
   "codemirror_mode": {
    "name": "ipython",
    "version": 3
   },
   "file_extension": ".py",
   "mimetype": "text/x-python",
   "name": "python",
   "nbconvert_exporter": "python",
   "pygments_lexer": "ipython3",
   "version": "3.10.8"
  }
 },
 "nbformat": 4,
 "nbformat_minor": 5
}
