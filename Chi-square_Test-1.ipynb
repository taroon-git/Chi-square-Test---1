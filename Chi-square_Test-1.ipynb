{
 "cells": [
  {
   "cell_type": "markdown",
   "id": "03bd1058-12a0-469a-8931-8f6d3e97ee7f",
   "metadata": {},
   "source": [
    "# Chi-Square Test"
   ]
  },
  {
   "cell_type": "markdown",
   "id": "86d626da-5454-44e5-b5b8-7bd0785fdb83",
   "metadata": {},
   "source": [
    "#Q:- How many number of hours student study in a weekly basis daily ?"
   ]
  },
  {
   "cell_type": "code",
   "execution_count": 2,
   "id": "a645e42e-b759-4d27-9b2c-bafbf3dba011",
   "metadata": {},
   "outputs": [],
   "source": [
    "import scipy.stats as stat\n",
    "import numpy as np"
   ]
  },
  {
   "cell_type": "code",
   "execution_count": 7,
   "id": "8ab80963-f5be-4f26-a0ef-356e3f2282fd",
   "metadata": {},
   "outputs": [],
   "source": [
    "# Categories :- Monday, Tuesday, Wednesday, Thursday, Friday, Saturday, Sunday\n",
    "expected_data = [8,6,7,9,6,9,7]\n",
    "observed_data = [7,8,6,9,9,6,7]\n"
   ]
  },
  {
   "cell_type": "code",
   "execution_count": 8,
   "id": "80b10d36-b4da-4b76-90e0-566f65278ffa",
   "metadata": {},
   "outputs": [],
   "source": [
    "# Chi-Square Goodness of Fit Test\n",
    "chisquare_test_statistic, p_value = stat.chisquare(observed_data , expected_data)"
   ]
  },
  {
   "cell_type": "code",
   "execution_count": 9,
   "id": "2f7006a5-ceac-4146-b158-509cebf20f9f",
   "metadata": {},
   "outputs": [
    {
     "data": {
      "text/plain": [
       "(3.4345238095238093, 0.7526596580922865)"
      ]
     },
     "execution_count": 9,
     "metadata": {},
     "output_type": "execute_result"
    }
   ],
   "source": [
    "chisquare_test_statistic, p_value"
   ]
  },
  {
   "cell_type": "code",
   "execution_count": 15,
   "id": "e810966e-ccc2-4724-8fe0-e256eed6d075",
   "metadata": {},
   "outputs": [
    {
     "name": "stdout",
     "output_type": "stream",
     "text": [
      "6\n"
     ]
    }
   ],
   "source": [
    "# Finding the critical value\n",
    "significance_value = 0.05\n",
    "dof = len(expected_data)-1\n",
    "print(dof)\n",
    "critical_value = stat.chi2.ppf(1-significance_value, dof)"
   ]
  },
  {
   "cell_type": "code",
   "execution_count": 16,
   "id": "b5548e49-a838-48de-8861-14c38b96ba5c",
   "metadata": {},
   "outputs": [
    {
     "data": {
      "text/plain": [
       "12.591587243743977"
      ]
     },
     "execution_count": 16,
     "metadata": {},
     "output_type": "execute_result"
    }
   ],
   "source": [
    "critical_value"
   ]
  },
  {
   "cell_type": "code",
   "execution_count": 17,
   "id": "c8a7f852-d783-4510-a22f-7221522b5d0a",
   "metadata": {},
   "outputs": [
    {
     "name": "stdout",
     "output_type": "stream",
     "text": [
      "Accept the Null hypothesis\n"
     ]
    }
   ],
   "source": [
    "if chisquare_test_statistic > critical_value:\n",
    "    print(\"Reject the Null hypothesis\")\n",
    "else:\n",
    "    print(\"Accept the Null hypothesis\")"
   ]
  },
  {
   "cell_type": "markdown",
   "id": "69e1d0f1-c746-4bb5-84cb-30ea45df03ae",
   "metadata": {},
   "source": []
  }
 ],
 "metadata": {
  "kernelspec": {
   "display_name": "Python 3 (ipykernel)",
   "language": "python",
   "name": "python3"
  },
  "language_info": {
   "codemirror_mode": {
    "name": "ipython",
    "version": 3
   },
   "file_extension": ".py",
   "mimetype": "text/x-python",
   "name": "python",
   "nbconvert_exporter": "python",
   "pygments_lexer": "ipython3",
   "version": "3.10.8"
  }
 },
 "nbformat": 4,
 "nbformat_minor": 5
}
