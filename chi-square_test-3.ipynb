{
 "cells": [
  {
   "cell_type": "markdown",
   "id": "38c401ba-e7d8-47a0-8c37-bc78dc907f82",
   "metadata": {},
   "source": [
    "# Problem :-  Level of Education"
   ]
  },
  {
   "cell_type": "code",
   "execution_count": 5,
   "id": "30be7388-a0c5-4b1e-9cbc-c5ddfe7a4b40",
   "metadata": {},
   "outputs": [],
   "source": [
    "#Is gender independent of education level? A random sample of 395 people were surveyed and ,\n",
    "#each person was asked to report the highest education level they obtained.\n",
    "#The data that resulted from the survey is summarized in the following table:\n",
    "\n",
    "         # HighSchool\t    Bachelors\t  Masters\t   Ph.d.     Total\n",
    " # Female       60\t        54\t       46       41\t         201\n",
    " # Male\t        40\t        44\t       53\t    57\t         194\n",
    " # Total\t    100\t        98\t       99\t    98\t         395\n",
    "\n",
    "# Ques : Are gender and education level dependent at 5% level of significance? In other words, given the data collected \n",
    "#above, is there a relationship between the gender of an individual and the level of education that they have obtained? "
   ]
  },
  {
   "cell_type": "code",
   "execution_count": 6,
   "id": "1cbe1e80-8083-42c1-a6ce-2b92c4436719",
   "metadata": {},
   "outputs": [],
   "source": []
  },
  {
   "cell_type": "code",
   "execution_count": 15,
   "id": "4a24f825-c72a-4c7d-872c-68c4735be7a1",
   "metadata": {},
   "outputs": [],
   "source": [
    "# expected_data = (row_total * col_total)/sample_size\n",
    "\n",
    "from scipy.stats import chi2_contingency\n",
    "observed_data = [[60,54,46,41],\n",
    "                [40,44,53,57]]"
   ]
  },
  {
   "cell_type": "code",
   "execution_count": 16,
   "id": "7a306f5f-14c3-4db9-a154-35ac373ebc6f",
   "metadata": {},
   "outputs": [],
   "source": [
    "stat , p_value, dof , expect_data = chi2_contingency(observed_data)"
   ]
  },
  {
   "cell_type": "code",
   "execution_count": 18,
   "id": "f6ee1717-1ee8-4410-bcd4-a82a58f16a62",
   "metadata": {},
   "outputs": [
    {
     "name": "stdout",
     "output_type": "stream",
     "text": [
      "p value is 0.045886500891747214\n"
     ]
    }
   ],
   "source": [
    "sign_value = 0.05\n",
    "print(\"p value is \" + str(p_value))"
   ]
  },
  {
   "cell_type": "code",
   "execution_count": 19,
   "id": "75a7e90c-0722-43c9-b836-f1294945e374",
   "metadata": {},
   "outputs": [
    {
     "name": "stdout",
     "output_type": "stream",
     "text": [
      "Rejected Null hypothesis\n"
     ]
    }
   ],
   "source": [
    "if p_value < sign_value:\n",
    "    print(\"Rejected Null hypothesis\")\n",
    "else:\n",
    "    print(\"Accepted Null hypothesis\")"
   ]
  },
  {
   "cell_type": "markdown",
   "id": "aff9d355-9304-45cc-83ee-37a9cb554a58",
   "metadata": {},
   "source": [
    "# conclusion"
   ]
  },
  {
   "cell_type": "markdown",
   "id": "855f64bf-0c39-4ac2-976a-61cb39056f8e",
   "metadata": {},
   "source": [
    "#we reject the null hypothesis,conclude that the education level depends on gender at a 5% level of significance."
   ]
  },
  {
   "cell_type": "code",
   "execution_count": null,
   "id": "07da8920-ff9e-4301-ab58-a28539728222",
   "metadata": {},
   "outputs": [],
   "source": []
  }
 ],
 "metadata": {
  "kernelspec": {
   "display_name": "Python 3 (ipykernel)",
   "language": "python",
   "name": "python3"
  },
  "language_info": {
   "codemirror_mode": {
    "name": "ipython",
    "version": 3
   },
   "file_extension": ".py",
   "mimetype": "text/x-python",
   "name": "python",
   "nbconvert_exporter": "python",
   "pygments_lexer": "ipython3",
   "version": "3.10.8"
  }
 },
 "nbformat": 4,
 "nbformat_minor": 5
}
